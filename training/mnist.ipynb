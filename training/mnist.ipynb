{
 "cells": [
  {
   "cell_type": "code",
   "execution_count": 19,
   "metadata": {},
   "outputs": [],
   "source": [
    "#Import MNIST dataset with torchvision\n",
    "\n",
    "import torch\n",
    "import torchvision\n",
    "import torch.nn.functional as F\n",
    "import torch.nn as nn\n",
    "from torch.utils.data import DataLoader\n",
    "#import torchvision.transforms as transforms\n",
    "\n",
    "from typing import Type\n",
    "import tqdm "
   ]
  },
  {
   "cell_type": "code",
   "execution_count": 29,
   "metadata": {},
   "outputs": [],
   "source": [
    "transforms = torchvision.transforms.Compose([\n",
    "    torchvision.transforms.ToTensor(),\n",
    "    torchvision.transforms.Normalize(mean = 0.1307, std = 0.3081)\n",
    "])"
   ]
  },
  {
   "cell_type": "code",
   "execution_count": 30,
   "metadata": {},
   "outputs": [],
   "source": [
    "mnist_trainset = torchvision.datasets.MNIST(root='./data', train=True, download=True, transform=transforms)\n",
    "mnist_testset = torchvision.datasets.MNIST(root='./data', train=False, download=True, transform=transforms)"
   ]
  },
  {
   "cell_type": "code",
   "execution_count": 22,
   "metadata": {},
   "outputs": [
    {
     "name": "stdout",
     "output_type": "stream",
     "text": [
      "<PIL.Image.Image image mode=L size=28x28 at 0x11138E0D0>\n"
     ]
    }
   ],
   "source": [
    "print(mnist_testset[0][0])"
   ]
  },
  {
   "cell_type": "code",
   "execution_count": 23,
   "metadata": {},
   "outputs": [
    {
     "name": "stdout",
     "output_type": "stream",
     "text": [
      "mean: tensor(0.1307)\n",
      "std: tensor(0.3081)\n"
     ]
    }
   ],
   "source": [
    "mean = mnist_trainset.data.float().mean()/255\n",
    "std = mnist_trainset.data.float().std()/255\n",
    "print('mean:', mean)\n",
    "print('std:', std)"
   ]
  },
  {
   "cell_type": "code",
   "execution_count": 31,
   "metadata": {},
   "outputs": [],
   "source": [
    "class MNIST_classifier(nn.Module):\n",
    "    def __init__(self):\n",
    "        super(MNIST_classifier, self).__init__()\n",
    "        self.conv1 = nn.Conv2d(1, 32, kernel_size=3, stride = 2, padding=1)\n",
    "        self.conv2 = nn.Conv2d(32, 64, kernel_size=5, stride = 2, padding=1)\n",
    "        #self.conv3 = nn.Conv2d(32, 64, kernel_size=5, stride = 3)\n",
    "        \n",
    "        self.conv_drop = nn.Dropout2d()\n",
    "        self.fc1 = nn.Linear(576, 10)\n",
    "\n",
    "        self.fc2 = nn.Linear(256, 10)\n",
    "\n",
    "        \n",
    "\n",
    "        self.max_pool = nn.MaxPool2d(2)\n",
    "    \n",
    "    def forward(self, x):\n",
    "        x = F.relu(self.conv1(x))\n",
    "        x = F.relu(self.max_pool(F.relu(self.conv2(x))))\n",
    "        x = self.conv_drop(x)\n",
    "        #print(x.shape)\n",
    "        x = x.view(-1, 576)\n",
    "    \n",
    "        #print(x.shape)\n",
    "        x = self.fc1(x)\n",
    "        #x = F.dropout(x, training=self.training)\n",
    "        #x = F.relu(x)\n",
    "        return x\n",
    "    \n",
    "\n",
    "    #FOR MAC \n",
    "device = torch.device('mps')\n",
    "\n",
    "model = MNIST_classifier().to(device)\n",
    "\n",
    "train_loader = DataLoader(mnist_trainset, batch_size=64, shuffle=True)\n",
    "test_loader = DataLoader(mnist_testset, batch_size=64, shuffle=True)"
   ]
  },
  {
   "cell_type": "code",
   "execution_count": 11,
   "metadata": {},
   "outputs": [],
   "source": [
    "def train(model, train_loader, optimizer, epoch, critetion, acc_dict, loss_dict) :\n",
    "    model.train()\n",
    "    total_loss = 0 \n",
    "    total_acc = 0\n",
    "    with tqdm.tqdm(range(len(train_loader))) as pbar:\n",
    "        \n",
    "        for X,Y in train_loader:\n",
    "            X,Y = X.to(device), Y.to(device)\n",
    "\n",
    "            optimizer.zero_grad()\n",
    "            output = model(X).to(device)\n",
    "            #print(output.shape, Y.shape)\n",
    "            loss = critetion(output, Y)\n",
    "            pred = output.argmax(dim=1, keepdim=True)\n",
    "            correct = pred.eq(Y.view_as(pred)).sum().item()\n",
    "            total_loss += loss.item()\n",
    "            total_acc += correct/len(X)\n",
    "            loss.backward()\n",
    "\n",
    "            optimizer.step()    \n",
    "            pbar.update(1)\n",
    "    \n",
    "    acc_dict[epoch] = [total_acc/len(train_loader)*100]\n",
    "    loss_dict[epoch] = [total_loss/len(train_loader)]\n",
    "    print(f'[TRAIN] : For epoch {epoch}, the loss is {total_loss/len(train_loader)} and the accuracy is {total_acc/len(train_loader)*100}')"
   ]
  },
  {
   "cell_type": "code",
   "execution_count": 12,
   "metadata": {},
   "outputs": [],
   "source": [
    "def test(model, test_loader , epoch, criterion, best_loss, acc_dict, loss_dict):\n",
    "    model.eval()\n",
    "    with torch.no_grad():\n",
    "        total_acc = 0 \n",
    "        total_loss = 0 \n",
    "        with tqdm.tqdm(range(len(test_loader))) as pbar:\n",
    "            for X,Y in test_loader : \n",
    "                X,Y = X.to(device), Y.to(device)\n",
    "                output = model(X).to(device)\n",
    "\n",
    "                loss = criterion(output, Y)\n",
    "                pred = output.argmax(dim=1, keepdim=True)\n",
    "                correct = pred.eq(Y.view_as(pred)).sum().item()\n",
    "                total_acc += correct/len(X)\n",
    "                total_loss += loss.item()\n",
    "                pbar.update(1)\n",
    "\n",
    "                if loss.item() < best_loss:\n",
    "                    best_loss = loss.item()\n",
    "                    torch.save(model.state_dict(), 'model/best_model.pth')\n",
    "\n",
    "        acc_dict[epoch].append(total_acc/len(test_loader)*100)\n",
    "        loss_dict[epoch].append(total_loss/len(test_loader))\n",
    "        print(f'[TEST] : For epoch {epoch}, the loss is {total_loss/len(test_loader)} and the accuracy is {total_acc/len(test_loader)*100}')\n",
    "\n",
    "        return best_loss\n"
   ]
  },
  {
   "cell_type": "code",
   "execution_count": 333,
   "metadata": {},
   "outputs": [
    {
     "name": "stderr",
     "output_type": "stream",
     "text": [
      "100%|██████████| 938/938 [00:07<00:00, 120.82it/s]\n"
     ]
    },
    {
     "name": "stdout",
     "output_type": "stream",
     "text": [
      "[TRAIN] : For epoch 0, the loss is 0.02724868702784261 and the accuracy is 99.07216151385929\n"
     ]
    },
    {
     "name": "stderr",
     "output_type": "stream",
     "text": [
      "100%|██████████| 157/157 [00:00<00:00, 201.39it/s]\n"
     ]
    },
    {
     "name": "stdout",
     "output_type": "stream",
     "text": [
      "[TEST] : For epoch 0, the loss is 0.037514647665004626 and the accuracy is 98.90525477707006\n"
     ]
    },
    {
     "name": "stderr",
     "output_type": "stream",
     "text": [
      "100%|██████████| 938/938 [00:07<00:00, 130.40it/s]\n"
     ]
    },
    {
     "name": "stdout",
     "output_type": "stream",
     "text": [
      "[TRAIN] : For epoch 1, the loss is 0.025377319269152834 and the accuracy is 99.15211886993603\n"
     ]
    },
    {
     "name": "stderr",
     "output_type": "stream",
     "text": [
      "100%|██████████| 157/157 [00:00<00:00, 207.82it/s]\n"
     ]
    },
    {
     "name": "stdout",
     "output_type": "stream",
     "text": [
      "[TEST] : For epoch 1, the loss is 0.03693165958781957 and the accuracy is 98.94506369426752\n"
     ]
    },
    {
     "name": "stderr",
     "output_type": "stream",
     "text": [
      "100%|██████████| 938/938 [00:07<00:00, 127.13it/s]\n"
     ]
    },
    {
     "name": "stdout",
     "output_type": "stream",
     "text": [
      "[TRAIN] : For epoch 2, the loss is 0.02396919994852317 and the accuracy is 99.20042643923242\n"
     ]
    },
    {
     "name": "stderr",
     "output_type": "stream",
     "text": [
      "100%|██████████| 157/157 [00:00<00:00, 218.84it/s]\n"
     ]
    },
    {
     "name": "stdout",
     "output_type": "stream",
     "text": [
      "[TEST] : For epoch 2, the loss is 0.03676674895759325 and the accuracy is 98.85549363057325\n"
     ]
    },
    {
     "name": "stderr",
     "output_type": "stream",
     "text": [
      "100%|██████████| 938/938 [00:07<00:00, 132.31it/s]\n"
     ]
    },
    {
     "name": "stdout",
     "output_type": "stream",
     "text": [
      "[TRAIN] : For epoch 3, the loss is 0.02587098904029705 and the accuracy is 99.10547707889125\n"
     ]
    },
    {
     "name": "stderr",
     "output_type": "stream",
     "text": [
      "100%|██████████| 157/157 [00:00<00:00, 211.08it/s]\n"
     ]
    },
    {
     "name": "stdout",
     "output_type": "stream",
     "text": [
      "[TEST] : For epoch 3, the loss is 0.03450338341084207 and the accuracy is 98.90525477707006\n"
     ]
    },
    {
     "name": "stderr",
     "output_type": "stream",
     "text": [
      "100%|██████████| 938/938 [00:07<00:00, 125.30it/s]\n"
     ]
    },
    {
     "name": "stdout",
     "output_type": "stream",
     "text": [
      "[TRAIN] : For epoch 4, the loss is 0.02414475071921211 and the accuracy is 99.17710554371001\n"
     ]
    },
    {
     "name": "stderr",
     "output_type": "stream",
     "text": [
      "100%|██████████| 157/157 [00:00<00:00, 211.54it/s]\n"
     ]
    },
    {
     "name": "stdout",
     "output_type": "stream",
     "text": [
      "[TEST] : For epoch 4, the loss is 0.035017175889766036 and the accuracy is 98.87539808917197\n"
     ]
    },
    {
     "name": "stderr",
     "output_type": "stream",
     "text": [
      "100%|██████████| 938/938 [00:07<00:00, 123.76it/s]\n"
     ]
    },
    {
     "name": "stdout",
     "output_type": "stream",
     "text": [
      "[TRAIN] : For epoch 5, the loss is 0.022974743116114728 and the accuracy is 99.18710021321961\n"
     ]
    },
    {
     "name": "stderr",
     "output_type": "stream",
     "text": [
      "100%|██████████| 157/157 [00:00<00:00, 212.06it/s]\n"
     ]
    },
    {
     "name": "stdout",
     "output_type": "stream",
     "text": [
      "[TEST] : For epoch 5, the loss is 0.037192344964977024 and the accuracy is 98.84554140127389\n"
     ]
    },
    {
     "name": "stderr",
     "output_type": "stream",
     "text": [
      "100%|██████████| 938/938 [00:07<00:00, 123.69it/s]\n"
     ]
    },
    {
     "name": "stdout",
     "output_type": "stream",
     "text": [
      "[TRAIN] : For epoch 6, the loss is 0.02336751930991812 and the accuracy is 99.2087553304904\n"
     ]
    },
    {
     "name": "stderr",
     "output_type": "stream",
     "text": [
      "100%|██████████| 157/157 [00:00<00:00, 205.03it/s]\n"
     ]
    },
    {
     "name": "stdout",
     "output_type": "stream",
     "text": [
      "[TEST] : For epoch 6, the loss is 0.03544528990923531 and the accuracy is 98.90525477707006\n"
     ]
    },
    {
     "name": "stderr",
     "output_type": "stream",
     "text": [
      "100%|██████████| 938/938 [00:07<00:00, 126.22it/s]\n"
     ]
    },
    {
     "name": "stdout",
     "output_type": "stream",
     "text": [
      "[TRAIN] : For epoch 7, the loss is 0.02108141173446203 and the accuracy is 99.27205490405117\n"
     ]
    },
    {
     "name": "stderr",
     "output_type": "stream",
     "text": [
      "100%|██████████| 157/157 [00:00<00:00, 208.02it/s]\n"
     ]
    },
    {
     "name": "stdout",
     "output_type": "stream",
     "text": [
      "[TEST] : For epoch 7, the loss is 0.03705106322263708 and the accuracy is 98.90525477707006\n"
     ]
    },
    {
     "name": "stderr",
     "output_type": "stream",
     "text": [
      "100%|██████████| 938/938 [00:07<00:00, 124.89it/s]\n"
     ]
    },
    {
     "name": "stdout",
     "output_type": "stream",
     "text": [
      "[TRAIN] : For epoch 8, the loss is 0.022673264292254573 and the accuracy is 99.24706823027718\n"
     ]
    },
    {
     "name": "stderr",
     "output_type": "stream",
     "text": [
      "100%|██████████| 157/157 [00:00<00:00, 212.39it/s]\n"
     ]
    },
    {
     "name": "stdout",
     "output_type": "stream",
     "text": [
      "[TEST] : For epoch 8, the loss is 0.037207123035667714 and the accuracy is 99.03463375796179\n"
     ]
    },
    {
     "name": "stderr",
     "output_type": "stream",
     "text": [
      "100%|██████████| 938/938 [00:07<00:00, 131.39it/s]\n"
     ]
    },
    {
     "name": "stdout",
     "output_type": "stream",
     "text": [
      "[TRAIN] : For epoch 9, the loss is 0.02127855938095712 and the accuracy is 99.28038379530916\n"
     ]
    },
    {
     "name": "stderr",
     "output_type": "stream",
     "text": [
      "100%|██████████| 157/157 [00:00<00:00, 220.23it/s]\n"
     ]
    },
    {
     "name": "stdout",
     "output_type": "stream",
     "text": [
      "[TEST] : For epoch 9, the loss is 0.036115275586189745 and the accuracy is 98.98487261146497\n"
     ]
    },
    {
     "name": "stderr",
     "output_type": "stream",
     "text": [
      "100%|██████████| 938/938 [00:07<00:00, 133.83it/s]\n"
     ]
    },
    {
     "name": "stdout",
     "output_type": "stream",
     "text": [
      "[TRAIN] : For epoch 10, the loss is 0.0202443654949376 and the accuracy is 99.32535980810235\n"
     ]
    },
    {
     "name": "stderr",
     "output_type": "stream",
     "text": [
      "100%|██████████| 157/157 [00:00<00:00, 218.49it/s]\n"
     ]
    },
    {
     "name": "stdout",
     "output_type": "stream",
     "text": [
      "[TEST] : For epoch 10, the loss is 0.03923436494494653 and the accuracy is 98.88535031847134\n"
     ]
    },
    {
     "name": "stderr",
     "output_type": "stream",
     "text": [
      "100%|██████████| 938/938 [00:07<00:00, 131.59it/s]\n"
     ]
    },
    {
     "name": "stdout",
     "output_type": "stream",
     "text": [
      "[TRAIN] : For epoch 11, the loss is 0.020451047637830684 and the accuracy is 99.30037313432835\n"
     ]
    },
    {
     "name": "stderr",
     "output_type": "stream",
     "text": [
      "100%|██████████| 157/157 [00:00<00:00, 216.94it/s]\n"
     ]
    },
    {
     "name": "stdout",
     "output_type": "stream",
     "text": [
      "[TEST] : For epoch 11, the loss is 0.03648648977920689 and the accuracy is 98.98487261146497\n"
     ]
    },
    {
     "name": "stderr",
     "output_type": "stream",
     "text": [
      "100%|██████████| 938/938 [00:07<00:00, 130.19it/s]\n"
     ]
    },
    {
     "name": "stdout",
     "output_type": "stream",
     "text": [
      "[TRAIN] : For epoch 12, the loss is 0.018887205338145585 and the accuracy is 99.33702025586354\n"
     ]
    },
    {
     "name": "stderr",
     "output_type": "stream",
     "text": [
      "100%|██████████| 157/157 [00:00<00:00, 211.03it/s]\n"
     ]
    },
    {
     "name": "stdout",
     "output_type": "stream",
     "text": [
      "[TEST] : For epoch 12, the loss is 0.03468864805294126 and the accuracy is 99.0047770700637\n"
     ]
    },
    {
     "name": "stderr",
     "output_type": "stream",
     "text": [
      "100%|██████████| 938/938 [00:07<00:00, 126.11it/s]\n"
     ]
    },
    {
     "name": "stdout",
     "output_type": "stream",
     "text": [
      "[TRAIN] : For epoch 13, the loss is 0.020609088079159413 and the accuracy is 99.31369936034116\n"
     ]
    },
    {
     "name": "stderr",
     "output_type": "stream",
     "text": [
      "100%|██████████| 157/157 [00:00<00:00, 209.22it/s]\n"
     ]
    },
    {
     "name": "stdout",
     "output_type": "stream",
     "text": [
      "[TEST] : For epoch 13, the loss is 0.03618083814243891 and the accuracy is 98.96496815286623\n"
     ]
    },
    {
     "name": "stderr",
     "output_type": "stream",
     "text": [
      "100%|██████████| 938/938 [00:07<00:00, 124.09it/s]\n"
     ]
    },
    {
     "name": "stdout",
     "output_type": "stream",
     "text": [
      "[TRAIN] : For epoch 14, the loss is 0.02032737906854208 and the accuracy is 99.29704157782517\n"
     ]
    },
    {
     "name": "stderr",
     "output_type": "stream",
     "text": [
      "100%|██████████| 157/157 [00:00<00:00, 212.46it/s]\n"
     ]
    },
    {
     "name": "stdout",
     "output_type": "stream",
     "text": [
      "[TEST] : For epoch 14, the loss is 0.03137391343346564 and the accuracy is 99.02468152866241\n"
     ]
    },
    {
     "name": "stderr",
     "output_type": "stream",
     "text": [
      "100%|██████████| 938/938 [00:07<00:00, 129.38it/s]\n"
     ]
    },
    {
     "name": "stdout",
     "output_type": "stream",
     "text": [
      "[TRAIN] : For epoch 15, the loss is 0.017947652784736853 and the accuracy is 99.36200692963753\n"
     ]
    },
    {
     "name": "stderr",
     "output_type": "stream",
     "text": [
      "100%|██████████| 157/157 [00:00<00:00, 212.61it/s]\n"
     ]
    },
    {
     "name": "stdout",
     "output_type": "stream",
     "text": [
      "[TEST] : For epoch 15, the loss is 0.032453814742375416 and the accuracy is 99.07444267515923\n"
     ]
    },
    {
     "name": "stderr",
     "output_type": "stream",
     "text": [
      "100%|██████████| 938/938 [00:07<00:00, 127.20it/s]\n"
     ]
    },
    {
     "name": "stdout",
     "output_type": "stream",
     "text": [
      "[TRAIN] : For epoch 16, the loss is 0.017239264549771528 and the accuracy is 99.38699360341151\n"
     ]
    },
    {
     "name": "stderr",
     "output_type": "stream",
     "text": [
      "100%|██████████| 157/157 [00:00<00:00, 215.10it/s]\n"
     ]
    },
    {
     "name": "stdout",
     "output_type": "stream",
     "text": [
      "[TEST] : For epoch 16, the loss is 0.043578098424601704 and the accuracy is 98.8156847133758\n"
     ]
    },
    {
     "name": "stderr",
     "output_type": "stream",
     "text": [
      "100%|██████████| 938/938 [00:07<00:00, 126.90it/s]\n"
     ]
    },
    {
     "name": "stdout",
     "output_type": "stream",
     "text": [
      "[TRAIN] : For epoch 17, the loss is 0.018445622990160455 and the accuracy is 99.37533315565032\n"
     ]
    },
    {
     "name": "stderr",
     "output_type": "stream",
     "text": [
      "100%|██████████| 157/157 [00:00<00:00, 217.05it/s]\n"
     ]
    },
    {
     "name": "stdout",
     "output_type": "stream",
     "text": [
      "[TEST] : For epoch 17, the loss is 0.03410566385135064 and the accuracy is 99.02468152866241\n"
     ]
    },
    {
     "name": "stderr",
     "output_type": "stream",
     "text": [
      "100%|██████████| 938/938 [00:07<00:00, 126.35it/s]\n"
     ]
    },
    {
     "name": "stdout",
     "output_type": "stream",
     "text": [
      "[TRAIN] : For epoch 18, the loss is 0.01818762477997651 and the accuracy is 99.38366204690831\n"
     ]
    },
    {
     "name": "stderr",
     "output_type": "stream",
     "text": [
      "100%|██████████| 157/157 [00:00<00:00, 208.89it/s]\n"
     ]
    },
    {
     "name": "stdout",
     "output_type": "stream",
     "text": [
      "[TEST] : For epoch 18, the loss is 0.03569125482164825 and the accuracy is 98.96496815286623\n"
     ]
    },
    {
     "name": "stderr",
     "output_type": "stream",
     "text": [
      "100%|██████████| 938/938 [00:07<00:00, 123.56it/s]\n"
     ]
    },
    {
     "name": "stdout",
     "output_type": "stream",
     "text": [
      "[TRAIN] : For epoch 19, the loss is 0.01653465402595331 and the accuracy is 99.38366204690831\n"
     ]
    },
    {
     "name": "stderr",
     "output_type": "stream",
     "text": [
      "100%|██████████| 157/157 [00:00<00:00, 209.56it/s]"
     ]
    },
    {
     "name": "stdout",
     "output_type": "stream",
     "text": [
      "[TEST] : For epoch 19, the loss is 0.03845132978843539 and the accuracy is 98.9749203821656\n"
     ]
    },
    {
     "name": "stderr",
     "output_type": "stream",
     "text": [
      "\n"
     ]
    }
   ],
   "source": [
    "acc_dict = {}\n",
    "loss_dict = {}\n",
    "criterion = F.cross_entropy\n",
    "optimizer = torch.optim.AdamW(model.parameters(), lr=1e-3)#.to(device)\n",
    "epochs = 20\n",
    "best_loss = 1000\n",
    "for epoch in range(epochs) : \n",
    "    train(model, train_loader, optimizer, epoch, criterion, acc_dict, loss_dict)\n",
    "    best_loss = test(model, test_loader, epoch, criterion, best_loss, acc_dict, loss_dict)"
   ]
  },
  {
   "cell_type": "code",
   "execution_count": 335,
   "metadata": {},
   "outputs": [
    {
     "data": {
      "image/png": "[encoded data removed]",
      "text/plain": [
       "<Figure size 640x480 with 1 Axes>"
      ]
     },
     "metadata": {},
     "output_type": "display_data"
    },
    {
     "data": {
      "image/png": "[encoded data removed]",
      "text/plain": [
       "<Figure size 640x480 with 1 Axes>"
      ]
     },
     "metadata": {},
     "output_type": "display_data"
    }
   ],
   "source": [
    "#Plot curves for train and test loss and accuracy train and test\n",
    "import matplotlib.pyplot as plt\n",
    "\n",
    "plt.plot(list(acc_dict.keys()), [acc_dict[i][0] for i in acc_dict.keys()], label='train')\n",
    "plt.plot(list(acc_dict.keys()), [acc_dict[i][1] for i in acc_dict.keys()], label='test')\n",
    "plt.title('Accuracy')\n",
    "plt.legend()\n",
    "plt.show()\n",
    "\n",
    "plt.plot(list(loss_dict.keys()), [loss_dict[i][0] for i in loss_dict.keys()], label='train')\n",
    "plt.plot(list(loss_dict.keys()), [loss_dict[i][1] for i in loss_dict.keys()], label='test')\n",
    "plt.title('Loss')\n",
    "plt.legend()\n",
    "plt.show()\n",
    "\n"
   ]
  },
  {
   "cell_type": "markdown",
   "metadata": {},
   "source": [
    "# With Resnet18"
   ]
  },
  {
   "cell_type": "code",
   "execution_count": 24,
   "metadata": {},
   "outputs": [],
   "source": [
    "class ResidualBlock(nn.Module):\n",
    "    def __init__(self, \n",
    "                 in_channels : int, \n",
    "                 out_channels : int, \n",
    "                 stride : int = 1, \n",
    "                   ) -> None:\n",
    "        super(ResidualBlock, self).__init__()\n",
    "        \n",
    "          \n",
    "        self.conv1 = nn.Conv2d(\n",
    "            in_channels, \n",
    "            out_channels, \n",
    "            kernel_size=3, \n",
    "            stride=stride, \n",
    "            padding=1,\n",
    "            bias=False\n",
    "        )\n",
    "        self.bn1 = nn.BatchNorm2d(out_channels)\n",
    "        self.relu = nn.ReLU(inplace=True)\n",
    "        self.conv2 = nn.Conv2d(\n",
    "            out_channels, \n",
    "            out_channels, \n",
    "            kernel_size=3, \n",
    "            padding=1,\n",
    "            bias=False\n",
    "        )\n",
    "        self.bn2 = nn.BatchNorm2d(out_channels)\n",
    "\n",
    "        if stride != 1 :\n",
    "            self.downsample = nn.Sequential(\n",
    "                nn.Conv2d(\n",
    "                    in_channels, \n",
    "                    out_channels, \n",
    "                    kernel_size=1, \n",
    "                    stride=stride, \n",
    "                    bias=False\n",
    "                ),\n",
    "                nn.BatchNorm2d(out_channels)\n",
    "            )\n",
    "        else :\n",
    "            self.downsample = nn.Identity()\n",
    "\n",
    "    def forward(self, x : torch.Tensor) -> torch.Tensor:\n",
    "        identity = x\n",
    "        out = self.conv1(x)\n",
    "        out = self.bn1(out)\n",
    "        out = self.relu(out)\n",
    "        \n",
    "        out = self.conv2(out)\n",
    "        out = self.bn2(out)\n",
    "\n",
    "        identity = self.downsample(identity)\n",
    "        out += identity\n",
    "        out = self.relu(out)\n",
    "        \n",
    "        return out"
   ]
  },
  {
   "cell_type": "code",
   "execution_count": 25,
   "metadata": {},
   "outputs": [],
   "source": [
    "class ResNet_18(nn.Module):\n",
    "    def __init__(self,\n",
    "                 num_classes : int = 35, \n",
    "                 ResidualBlock : Type[nn.Module] = ResidualBlock\n",
    "                 ) -> None :\n",
    "        super(ResNet_18, self).__init__()\n",
    "        \n",
    "        self.conv1 = nn.Conv2d(\n",
    "            in_channels=1,\n",
    "            out_channels=64,\n",
    "            kernel_size=7,\n",
    "            stride=2,\n",
    "            padding=3,\n",
    "            bias=False\n",
    "        )\n",
    "        self.num_classes = num_classes\n",
    "\n",
    "        self.bn1 = nn.BatchNorm2d(64)\n",
    "        self.relu = nn.ReLU(inplace=True)\n",
    "        self.maxpool = nn.MaxPool2d(\n",
    "            kernel_size=3,\n",
    "            stride=2,\n",
    "            padding=1\n",
    "        )\n",
    "\n",
    "        # Residual layers\n",
    "        self.layer1 = nn.Sequential(\n",
    "            ResidualBlock(\n",
    "                in_channels = 64, \n",
    "                out_channels = 64,\n",
    "                stride = 1,),\n",
    "            ResidualBlock(\n",
    "                in_channels = 64, \n",
    "                out_channels = 64,\n",
    "                stride = 1,)\n",
    "        )\n",
    "        self.layer2 = nn.Sequential(\n",
    "            ResidualBlock(\n",
    "                in_channels = 64, \n",
    "                out_channels = 128,\n",
    "                stride = 2, ),\n",
    "            ResidualBlock(\n",
    "                in_channels = 128, \n",
    "                out_channels = 128,\n",
    "                stride = 1,)\n",
    "        )\n",
    "        self.layer3 = nn.Sequential(\n",
    "            ResidualBlock(\n",
    "                in_channels = 128, \n",
    "                out_channels = 256,\n",
    "                stride = 2, ),\n",
    "            ResidualBlock(\n",
    "                in_channels = 256, \n",
    "                out_channels = 256,\n",
    "                stride = 1,)\n",
    "        )\n",
    "        self.layer4 = nn.Sequential(\n",
    "            ResidualBlock(\n",
    "                in_channels = 256, \n",
    "                out_channels = 512,\n",
    "                stride = 2, ),\n",
    "            ResidualBlock(\n",
    "                in_channels = 512, \n",
    "                out_channels = 512,\n",
    "                stride = 1,)\n",
    "        )\n",
    "\n",
    "        self.adaptative_pool = nn.AdaptiveAvgPool2d((1,1))\n",
    "\n",
    "        self.classify1 = nn.Linear(512, 256)\n",
    "        self.classify2 = nn.Linear(256, self.num_classes)\n",
    "\n",
    "    def forward(self, x : torch.Tensor()) -> torch.Tensor :\n",
    "        x = self.conv1(x)\n",
    "        x = self.bn1(x)\n",
    "        x = self.relu(x)\n",
    "        x = self.maxpool(x)\n",
    "\n",
    "        x = self.layer1(x)\n",
    "        x = self.layer2(x)\n",
    "        x = self.layer3(x)\n",
    "        x = self.layer4(x)\n",
    "\n",
    "        #for classification \n",
    "        x = self.adaptative_pool(x)\n",
    "        x = torch.flatten(x, 1)\n",
    "        x = self.classify1(x)\n",
    "        x = self.classify2(x)\n",
    "        return x"
   ]
  },
  {
   "cell_type": "code",
   "execution_count": 32,
   "metadata": {},
   "outputs": [
    {
     "name": "stderr",
     "output_type": "stream",
     "text": [
      "100%|█████████▉| 937/938 [00:39<00:00, 27.79it/s]"
     ]
    }
   ],
   "source": [
    "\n",
    "model = ResNet_18().to(device)\n",
    "acc_dict = {}\n",
    "loss_dict = {}\n",
    "criterion = F.cross_entropy\n",
    "optimizer = torch.optim.AdamW(model.parameters(), lr=1e-3)#.to(device)\n",
    "epochs = 20\n",
    "best_loss = 1000\n",
    "for epoch in range(epochs) : \n",
    "    train(model, train_loader, optimizer, epoch, criterion, acc_dict, loss_dict)\n",
    "    best_loss = test(model, test_loader, epoch, criterion, best_loss, acc_dict, loss_dict)"
   ]
  },
  {
   "cell_type": "code",
   "execution_count": null,
   "metadata": {},
   "outputs": [],
   "source": []
  }
 ],
 "metadata": {
  "kernelspec": {
   "display_name": ".env",
   "language": "python",
   "name": "python3"
  },
  "language_info": {
   "codemirror_mode": {
    "name": "ipython",
    "version": 3
   },
   "file_extension": ".py",
   "mimetype": "text/x-python",
   "name": "python",
   "nbconvert_exporter": "python",
   "pygments_lexer": "ipython3",
   "version": "3.11.0"
  }
 },
 "nbformat": 4,
 "nbformat_minor": 2
}
